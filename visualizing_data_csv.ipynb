{
 "cells": [
  {
   "cell_type": "code",
   "execution_count": null,
   "metadata": {},
   "outputs": [],
   "source": [
    "import sqlite3\n",
    "\n",
    "conn = sqlite3.connect('db_dados_fake.db')\n",
    "cursor = conn.cursor()"
   ]
  },
  {
   "cell_type": "code",
   "execution_count": null,
   "metadata": {},
   "outputs": [],
   "source": [
    "cursor.execute('''\n",
    "SELECT * FROM dados_fake\n",
    "''')\n",
    "resultados = cursor.fetchall()\n",
    "descript = [description[0] for description in cursor.description]\n",
    "\n",
    "print(\"view do db: \")\n",
    "print(descript)\n",
    "for row in resultados:\n",
    "  print(row)"
   ]
  },
  {
   "cell_type": "code",
   "execution_count": null,
   "metadata": {},
   "outputs": [],
   "source": [
    "cursor.execute(f'''\n",
    "SELECT typeof('Idade') AS tipo_dados, COUNT(*) AS total FROM dados_fake GROUP BY typeof(\"Idade\")\n",
    "''')\n",
    "\n",
    "resultados = cursor.fetchall()\n",
    "\n",
    "for tipo, total in resultados:\n",
    "  print(tipo, total)\n"
   ]
  },
  {
   "cell_type": "code",
   "execution_count": 19,
   "metadata": {},
   "outputs": [
    {
     "ename": "OperationalError",
     "evalue": "near \"*\": syntax error",
     "output_type": "error",
     "traceback": [
      "\u001b[1;31m---------------------------------------------------------------------------\u001b[0m",
      "\u001b[1;31mOperationalError\u001b[0m                          Traceback (most recent call last)",
      "Cell \u001b[1;32mIn[19], line 1\u001b[0m\n\u001b[1;32m----> 1\u001b[0m \u001b[43mcursor\u001b[49m\u001b[38;5;241;43m.\u001b[39;49m\u001b[43mexecute\u001b[49m\u001b[43m(\u001b[49m\u001b[38;5;124;43mf\u001b[39;49m\u001b[38;5;124;43m'''\u001b[39;49m\n\u001b[0;32m      2\u001b[0m \u001b[38;5;124;43mSELECT CAST(* AS INT) AS \u001b[39;49m\u001b[38;5;124;43m\"\u001b[39;49m\u001b[38;5;124;43mIdade\u001b[39;49m\u001b[38;5;124;43m\"\u001b[39;49m\u001b[38;5;124;43m;\u001b[39;49m\n\u001b[0;32m      3\u001b[0m \u001b[38;5;124;43m'''\u001b[39;49m\u001b[43m)\u001b[49m\n\u001b[0;32m      5\u001b[0m conn\u001b[38;5;241m.\u001b[39mcommit()\n",
      "\u001b[1;31mOperationalError\u001b[0m: near \"*\": syntax error"
     ]
    }
   ],
   "source": [
    "cursor.execute(f'''\n",
    "SELECT CAST(* AS INT) AS \"Idade\";\n",
    "''')\n",
    "\n",
    "conn.commit()"
   ]
  },
  {
   "cell_type": "code",
   "execution_count": null,
   "metadata": {},
   "outputs": [],
   "source": [
    "cursor.execute(f'''\n",
    "SELECT typeof(\"Idade\") AS tipo_dados, COUNT(*) AS total FROM dados_fake GROUP BY typeof(\"Idade\")\n",
    "''')\n",
    "\n",
    "resultados = cursor.fetchall()\n",
    "print(resultados)\n",
    "\n",
    "for tipo, total in resultados:\n",
    "  print(tipo, total)"
   ]
  },
  {
   "cell_type": "code",
   "execution_count": null,
   "metadata": {},
   "outputs": [],
   "source": [
    "# Verificar os valores na coluna \"Idade\" que não são inteiros\n",
    "cursor.execute('''SELECT \"Idade\" FROM dados_fake WHERE \"Idade\" NOT LIKE '%[^0-9]%' ''')\n",
    "valores_nao_inteiros = cursor.fetchall()\n",
    "if valores_nao_inteiros:\n",
    "    print(\"Existem valores na coluna 'Idade' que não são inteiros válidos:\")\n",
    "    print(valores_nao_inteiros)\n",
    "else:\n",
    "    # Executar a conversão apenas se todos os valores forem inteiros\n",
    "    cursor.execute(f'''\n",
    "    UPDATE dados_fake SET \"Idade\" = CAST(\"Idade\" AS INTEGER) \n",
    "    ''')\n",
    "    conn.commit()\n",
    "    print(\"Conversão da coluna 'Idade' para inteiros concluída com sucesso.\")\n"
   ]
  },
  {
   "cell_type": "code",
   "execution_count": null,
   "metadata": {},
   "outputs": [],
   "source": [
    "conn.close()"
   ]
  }
 ],
 "metadata": {
  "kernelspec": {
   "display_name": "Data_transform-6_u8Jwip",
   "language": "python",
   "name": "python3"
  },
  "language_info": {
   "codemirror_mode": {
    "name": "ipython",
    "version": 3
   },
   "file_extension": ".py",
   "mimetype": "text/x-python",
   "name": "python",
   "nbconvert_exporter": "python",
   "pygments_lexer": "ipython3",
   "version": "3.11.7"
  }
 },
 "nbformat": 4,
 "nbformat_minor": 2
}
