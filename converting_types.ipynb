{
 "cells": [
  {
   "cell_type": "code",
   "execution_count": 1,
   "metadata": {},
   "outputs": [
    {
     "data": {
      "text/plain": [
       "<sqlite3.Cursor at 0x1c3371bfcc0>"
      ]
     },
     "execution_count": 1,
     "metadata": {},
     "output_type": "execute_result"
    }
   ],
   "source": [
    "import sqlite3\n",
    "\n",
    "conn = sqlite3.connect(\"db_dados_fake.db\")\n",
    "cursor = conn.cursor()\n",
    "# conn.close()\n",
    "\n",
    "# cursor.execute('''\n",
    "# ALTER TABLE dados_fake DROP COLUMN Nova_coluna\n",
    "# ''')\n",
    "\n",
    "cursor.execute('''\n",
    "ALTER TABLE dados_fake ADD COLUMN Nova_coluna INTEGER\n",
    "''')"
   ]
  },
  {
   "cell_type": "code",
   "execution_count": 2,
   "metadata": {},
   "outputs": [],
   "source": [
    "cursor.execute('''\n",
    "UPDATE dados_fake SET Nova_coluna = CAST(Idade AS INTEGER)\n",
    "''')\n",
    "\n",
    "cursor.execute('''\n",
    "ALTER TABLE dados_fake DROP COLUMN Idade\n",
    "''')\n",
    "\n",
    "cursor.execute('''\n",
    "ALTER TABLE dados_fake RENAME COLUMN Nova_coluna TO Idade\n",
    "''')\n",
    "\n",
    "conn.commit()"
   ]
  },
  {
   "cell_type": "code",
   "execution_count": 3,
   "metadata": {},
   "outputs": [
    {
     "name": "stdout",
     "output_type": "stream",
     "text": [
      "(0, 'ID', 'TEXT', 0, None, 0)\n",
      "(1, 'Nome', 'TEXT', 0, None, 0)\n",
      "(2, 'Salário', 'REAL', 0, None, 0)\n",
      "(3, 'Idade', 'INTEGER', 0, None, 0)\n"
     ]
    }
   ],
   "source": [
    "cursor.execute('''\n",
    "PRAGMA table_info(dados_fake)\n",
    "''')\n",
    "\n",
    "resultados = cursor.fetchall()\n",
    "\n",
    "for row in resultados:\n",
    "  print(row)"
   ]
  },
  {
   "cell_type": "code",
   "execution_count": 1,
   "metadata": {},
   "outputs": [],
   "source": [
    "import sqlite3\n",
    "\n",
    "conn = sqlite3.connect(\"db_dados_fake.db\")\n",
    "conn.close()"
   ]
  }
 ],
 "metadata": {
  "kernelspec": {
   "display_name": "Data_transform-6_u8Jwip",
   "language": "python",
   "name": "python3"
  },
  "language_info": {
   "codemirror_mode": {
    "name": "ipython",
    "version": 3
   },
   "file_extension": ".py",
   "mimetype": "text/x-python",
   "name": "python",
   "nbconvert_exporter": "python",
   "pygments_lexer": "ipython3",
   "version": "3.11.7"
  }
 },
 "nbformat": 4,
 "nbformat_minor": 2
}
