{
 "cells": [
  {
   "cell_type": "code",
   "execution_count": null,
   "metadata": {},
   "outputs": [],
   "source": [
    "import sqlite3\n",
    "\n",
    "conn = sqlite3.connect(\"db_dados_fake.db\")\n",
    "cursor = conn.cursor()"
   ]
  },
  {
   "cell_type": "code",
   "execution_count": null,
   "metadata": {},
   "outputs": [],
   "source": [
    "cursor.execute('''\n",
    "ALTER TABLE dados_fake DROP COLUMN Nova_coluna\n",
    "''')"
   ]
  },
  {
   "cell_type": "code",
   "execution_count": null,
   "metadata": {},
   "outputs": [],
   "source": [
    "cursor.execute('''\n",
    "ALTER TABLE dados_fake ADD COLUMN Nova_coluna REAL\n",
    "''')"
   ]
  },
  {
   "cell_type": "code",
   "execution_count": null,
   "metadata": {},
   "outputs": [],
   "source": [
    "# cursor.execute('''\n",
    "# UPDATE dados_fake SET Nova_coluna = CASE\n",
    "#                WHEN Idade LIKE '%[a-zA-Z]%' THEN NULL\n",
    "#                ELSE CAST(Idade AS INTEGER)\n",
    "#                END\n",
    "# ''')\n",
    "\n",
    "cursor.execute('''\n",
    "UPDATE dados_fake SET Nova_coluna = CAST(Idade AS INTEGER)\n",
    "''')\n",
    "\n",
    "cursor.execute('''\n",
    "ALTER TABLE dados_fake DROP COLUMN Idade\n",
    "''')\n",
    "\n",
    "cursor.execute('''\n",
    "ALTER TABLE dados_fake RENAME COLUMN Nova_coluna TO Idade\n",
    "''')\n",
    "\n",
    "conn.commit()"
   ]
  },
  {
   "cell_type": "code",
   "execution_count": null,
   "metadata": {},
   "outputs": [],
   "source": [
    "cursor.execute('''\n",
    "PRAGMA table_info(dados_fake)\n",
    "''')\n",
    "\n",
    "resultados = cursor.fetchall()\n",
    "\n",
    "for row in resultados:\n",
    "  print(row)"
   ]
  },
  {
   "cell_type": "code",
   "execution_count": null,
   "metadata": {},
   "outputs": [],
   "source": [
    "cursor.execute('''\n",
    "DELETE FROM dados_fake WHERE Salário = 0.0\n",
    "''')\n",
    "\n",
    "conn.commit()"
   ]
  },
  {
   "cell_type": "code",
   "execution_count": null,
   "metadata": {},
   "outputs": [],
   "source": [
    "import numpy as np\n",
    "import matplotlib.pyplot as plt\n",
    "import seaborn as sns\n",
    "import sqlite3\n",
    "\n",
    "# Conecte-se ao banco de dados\n",
    "conn = sqlite3.connect(\"db_dados_fake.db\")\n",
    "cursor = conn.cursor()\n",
    "\n",
    "# Defina a coluna de interesse\n",
    "coluna_interesse = 'Salário'\n",
    "\n",
    "# Obtenha os nomes de todas as colunas, exceto a coluna de interesse\n",
    "cursor.execute(f'''\n",
    "    SELECT name FROM pragma_table_info('dados_fake')\n",
    "    WHERE name != '{coluna_interesse}'\n",
    "''')\n",
    "colunas = [coluna_interesse] + [row[0] for row in cursor.fetchall()]  # Adicione a coluna de interesse à lista\n",
    "\n",
    "# Execute uma consulta para obter os dados das colunas\n",
    "cursor.execute(f'''\n",
    "    SELECT {', '.join(colunas)} FROM dados_fake\n",
    "''')\n",
    "dados = cursor.fetchall()\n",
    "\n",
    "# Crie uma matriz numpy com os dados\n",
    "matriz_dados = np.array(dados)\n",
    "\n",
    "# Calcule a matriz de correlação\n",
    "matriz_correlacao = np.corrcoef(matriz_dados, rowvar=False)\n",
    "\n",
    "# Crie um mapa de calor usando seaborn\n",
    "plt.figure(figsize=(10, 8))\n",
    "sns.heatmap(matriz_correlacao, annot=True, xticklabels=colunas, yticklabels=colunas, cmap='coolwarm')\n",
    "plt.title(\"Mapa de Correlação\")\n",
    "plt.show()\n",
    "\n",
    "# Feche a conexão com o banco de dados\n",
    "conn.close()\n"
   ]
  },
  {
   "cell_type": "code",
   "execution_count": 7,
   "metadata": {},
   "outputs": [
    {
     "name": "stdout",
     "output_type": "stream",
     "text": [
      "['Salário', 'Idade']\n",
      "Salário\n",
      "Idade\n",
      "Salário Idade\n"
     ]
    }
   ],
   "source": [
    "import sqlite3\n",
    "\n",
    "# Conecte-se ao banco de dados\n",
    "conn = sqlite3.connect(\"db_dados_fake.db\")\n",
    "cursor = conn.cursor()\n",
    "\n",
    "# Obtenha os nomes de todas as colunas, exceto a coluna de interesse\n",
    "cursor.execute(f'''\n",
    "    SELECT name FROM pragma_table_info('dados_fake')\n",
    "''')\n",
    "\n",
    "colunas = [row[0] for row in cursor.fetchall()]\n",
    "\n",
    "print(colunas)\n",
    "\n",
    "for coluna in colunas:\n",
    "  print(coluna)\n",
    "\n",
    "print(colunas[0], colunas[1])\n",
    "\n",
    "conn.close()"
   ]
  }
 ],
 "metadata": {
  "kernelspec": {
   "display_name": "Data_transform-6_u8Jwip",
   "language": "python",
   "name": "python3"
  },
  "language_info": {
   "codemirror_mode": {
    "name": "ipython",
    "version": 3
   },
   "file_extension": ".py",
   "mimetype": "text/x-python",
   "name": "python",
   "nbconvert_exporter": "python",
   "pygments_lexer": "ipython3",
   "version": "3.11.7"
  }
 },
 "nbformat": 4,
 "nbformat_minor": 2
}
