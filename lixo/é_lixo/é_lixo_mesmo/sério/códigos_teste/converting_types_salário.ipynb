{
 "cells": [
  {
   "cell_type": "code",
   "execution_count": 3,
   "metadata": {},
   "outputs": [],
   "source": [
    "import sqlite3\n",
    "\n",
    "conn = sqlite3.connect(\"db_dados_fake.db\")\n",
    "cursor = conn.cursor()"
   ]
  },
  {
   "cell_type": "code",
   "execution_count": null,
   "metadata": {},
   "outputs": [],
   "source": [
    "cursor.execute('''\n",
    "ALTER TABLE dados_fake DROP COLUMN Nova_coluna\n",
    "''')"
   ]
  },
  {
   "cell_type": "code",
   "execution_count": null,
   "metadata": {},
   "outputs": [],
   "source": [
    "cursor.execute('''\n",
    "ALTER TABLE dados_fake ADD COLUMN Nova_coluna REAL\n",
    "''')"
   ]
  },
  {
   "cell_type": "code",
   "execution_count": null,
   "metadata": {},
   "outputs": [],
   "source": [
    "# cursor.execute('''\n",
    "# UPDATE dados_fake SET Nova_coluna = CASE\n",
    "#                WHEN Idade LIKE '%[a-zA-Z]%' THEN NULL\n",
    "#                ELSE CAST(Idade AS INTEGER)\n",
    "#                END\n",
    "# ''')\n",
    "\n",
    "cursor.execute('''\n",
    "UPDATE dados_fake SET Nova_coluna = CAST(Idade AS INTEGER)\n",
    "''')\n",
    "\n",
    "cursor.execute('''\n",
    "ALTER TABLE dados_fake DROP COLUMN Idade\n",
    "''')\n",
    "\n",
    "cursor.execute('''\n",
    "ALTER TABLE dados_fake RENAME COLUMN Nova_coluna TO Idade\n",
    "''')\n",
    "\n",
    "conn.commit()"
   ]
  },
  {
   "cell_type": "code",
   "execution_count": 4,
   "metadata": {},
   "outputs": [
    {
     "name": "stdout",
     "output_type": "stream",
     "text": [
      "(0, 'ID', 'TEXT', 0, None, 0)\n",
      "(1, 'Nome', 'TEXT', 0, None, 0)\n",
      "(2, 'Idade', 'TEXT', 0, None, 0)\n",
      "(3, 'Salário', 'TEXT', 0, None, 0)\n"
     ]
    }
   ],
   "source": [
    "cursor.execute('''\n",
    "PRAGMA table_info(dados_fake)\n",
    "''')\n",
    "\n",
    "resultados = cursor.fetchall()\n",
    "\n",
    "for row in resultados:\n",
    "  print(row)\n",
    "\n",
    "conn.close()"
   ]
  },
  {
   "cell_type": "code",
   "execution_count": null,
   "metadata": {},
   "outputs": [],
   "source": [
    "cursor.execute('''\n",
    "DELETE FROM dados_fake WHERE Salário = 0.0\n",
    "''')\n",
    "\n",
    "conn.commit()"
   ]
  },
  {
   "cell_type": "code",
   "execution_count": 5,
   "metadata": {},
   "outputs": [
    {
     "ename": "UFuncTypeError",
     "evalue": "ufunc 'add' did not contain a loop with signature matching types (dtype('<U32'), dtype('<U32')) -> None",
     "output_type": "error",
     "traceback": [
      "\u001b[1;31m---------------------------------------------------------------------------\u001b[0m",
      "\u001b[1;31mUFuncTypeError\u001b[0m                            Traceback (most recent call last)",
      "Cell \u001b[1;32mIn[5], line 30\u001b[0m\n\u001b[0;32m     27\u001b[0m matriz_dados \u001b[38;5;241m=\u001b[39m np\u001b[38;5;241m.\u001b[39marray(dados)\n\u001b[0;32m     29\u001b[0m \u001b[38;5;66;03m# Calcule a matriz de correlação\u001b[39;00m\n\u001b[1;32m---> 30\u001b[0m matriz_correlacao \u001b[38;5;241m=\u001b[39m \u001b[43mnp\u001b[49m\u001b[38;5;241;43m.\u001b[39;49m\u001b[43mcorrcoef\u001b[49m\u001b[43m(\u001b[49m\u001b[43mmatriz_dados\u001b[49m\u001b[43m,\u001b[49m\u001b[43m \u001b[49m\u001b[43mrowvar\u001b[49m\u001b[38;5;241;43m=\u001b[39;49m\u001b[38;5;28;43;01mFalse\u001b[39;49;00m\u001b[43m)\u001b[49m\n\u001b[0;32m     32\u001b[0m \u001b[38;5;66;03m# Crie um mapa de calor usando seaborn\u001b[39;00m\n\u001b[0;32m     33\u001b[0m plt\u001b[38;5;241m.\u001b[39mfigure(figsize\u001b[38;5;241m=\u001b[39m(\u001b[38;5;241m10\u001b[39m, \u001b[38;5;241m8\u001b[39m))\n",
      "File \u001b[1;32mc:\\Users\\AUTOU4\\.virtualenvs\\Data_transform-6_u8Jwip\\Lib\\site-packages\\numpy\\lib\\function_base.py:2889\u001b[0m, in \u001b[0;36mcorrcoef\u001b[1;34m(x, y, rowvar, bias, ddof, dtype)\u001b[0m\n\u001b[0;32m   2885\u001b[0m \u001b[38;5;28;01mif\u001b[39;00m bias \u001b[38;5;129;01mis\u001b[39;00m \u001b[38;5;129;01mnot\u001b[39;00m np\u001b[38;5;241m.\u001b[39m_NoValue \u001b[38;5;129;01mor\u001b[39;00m ddof \u001b[38;5;129;01mis\u001b[39;00m \u001b[38;5;129;01mnot\u001b[39;00m np\u001b[38;5;241m.\u001b[39m_NoValue:\n\u001b[0;32m   2886\u001b[0m     \u001b[38;5;66;03m# 2015-03-15, 1.10\u001b[39;00m\n\u001b[0;32m   2887\u001b[0m     warnings\u001b[38;5;241m.\u001b[39mwarn(\u001b[38;5;124m'\u001b[39m\u001b[38;5;124mbias and ddof have no effect and are deprecated\u001b[39m\u001b[38;5;124m'\u001b[39m,\n\u001b[0;32m   2888\u001b[0m                   \u001b[38;5;167;01mDeprecationWarning\u001b[39;00m, stacklevel\u001b[38;5;241m=\u001b[39m\u001b[38;5;241m2\u001b[39m)\n\u001b[1;32m-> 2889\u001b[0m c \u001b[38;5;241m=\u001b[39m \u001b[43mcov\u001b[49m\u001b[43m(\u001b[49m\u001b[43mx\u001b[49m\u001b[43m,\u001b[49m\u001b[43m \u001b[49m\u001b[43my\u001b[49m\u001b[43m,\u001b[49m\u001b[43m \u001b[49m\u001b[43mrowvar\u001b[49m\u001b[43m,\u001b[49m\u001b[43m \u001b[49m\u001b[43mdtype\u001b[49m\u001b[38;5;241;43m=\u001b[39;49m\u001b[43mdtype\u001b[49m\u001b[43m)\u001b[49m\n\u001b[0;32m   2890\u001b[0m \u001b[38;5;28;01mtry\u001b[39;00m:\n\u001b[0;32m   2891\u001b[0m     d \u001b[38;5;241m=\u001b[39m diag(c)\n",
      "File \u001b[1;32mc:\\Users\\AUTOU4\\.virtualenvs\\Data_transform-6_u8Jwip\\Lib\\site-packages\\numpy\\lib\\function_base.py:2724\u001b[0m, in \u001b[0;36mcov\u001b[1;34m(m, y, rowvar, bias, ddof, fweights, aweights, dtype)\u001b[0m\n\u001b[0;32m   2721\u001b[0m     \u001b[38;5;28;01melse\u001b[39;00m:\n\u001b[0;32m   2722\u001b[0m         w \u001b[38;5;241m*\u001b[39m\u001b[38;5;241m=\u001b[39m aweights\n\u001b[1;32m-> 2724\u001b[0m avg, w_sum \u001b[38;5;241m=\u001b[39m \u001b[43maverage\u001b[49m\u001b[43m(\u001b[49m\u001b[43mX\u001b[49m\u001b[43m,\u001b[49m\u001b[43m \u001b[49m\u001b[43maxis\u001b[49m\u001b[38;5;241;43m=\u001b[39;49m\u001b[38;5;241;43m1\u001b[39;49m\u001b[43m,\u001b[49m\u001b[43m \u001b[49m\u001b[43mweights\u001b[49m\u001b[38;5;241;43m=\u001b[39;49m\u001b[43mw\u001b[49m\u001b[43m,\u001b[49m\u001b[43m \u001b[49m\u001b[43mreturned\u001b[49m\u001b[38;5;241;43m=\u001b[39;49m\u001b[38;5;28;43;01mTrue\u001b[39;49;00m\u001b[43m)\u001b[49m\n\u001b[0;32m   2725\u001b[0m w_sum \u001b[38;5;241m=\u001b[39m w_sum[\u001b[38;5;241m0\u001b[39m]\n\u001b[0;32m   2727\u001b[0m \u001b[38;5;66;03m# Determine the normalization\u001b[39;00m\n",
      "File \u001b[1;32mc:\\Users\\AUTOU4\\.virtualenvs\\Data_transform-6_u8Jwip\\Lib\\site-packages\\numpy\\lib\\function_base.py:520\u001b[0m, in \u001b[0;36maverage\u001b[1;34m(a, axis, weights, returned, keepdims)\u001b[0m\n\u001b[0;32m    517\u001b[0m     keepdims_kw \u001b[38;5;241m=\u001b[39m {\u001b[38;5;124m'\u001b[39m\u001b[38;5;124mkeepdims\u001b[39m\u001b[38;5;124m'\u001b[39m: keepdims}\n\u001b[0;32m    519\u001b[0m \u001b[38;5;28;01mif\u001b[39;00m weights \u001b[38;5;129;01mis\u001b[39;00m \u001b[38;5;28;01mNone\u001b[39;00m:\n\u001b[1;32m--> 520\u001b[0m     avg \u001b[38;5;241m=\u001b[39m \u001b[43ma\u001b[49m\u001b[38;5;241;43m.\u001b[39;49m\u001b[43mmean\u001b[49m\u001b[43m(\u001b[49m\u001b[43maxis\u001b[49m\u001b[43m,\u001b[49m\u001b[43m \u001b[49m\u001b[38;5;241;43m*\u001b[39;49m\u001b[38;5;241;43m*\u001b[39;49m\u001b[43mkeepdims_kw\u001b[49m\u001b[43m)\u001b[49m\n\u001b[0;32m    521\u001b[0m     avg_as_array \u001b[38;5;241m=\u001b[39m np\u001b[38;5;241m.\u001b[39masanyarray(avg)\n\u001b[0;32m    522\u001b[0m     scl \u001b[38;5;241m=\u001b[39m avg_as_array\u001b[38;5;241m.\u001b[39mdtype\u001b[38;5;241m.\u001b[39mtype(a\u001b[38;5;241m.\u001b[39msize\u001b[38;5;241m/\u001b[39mavg_as_array\u001b[38;5;241m.\u001b[39msize)\n",
      "File \u001b[1;32mc:\\Users\\AUTOU4\\.virtualenvs\\Data_transform-6_u8Jwip\\Lib\\site-packages\\numpy\\core\\_methods.py:118\u001b[0m, in \u001b[0;36m_mean\u001b[1;34m(a, axis, dtype, out, keepdims, where)\u001b[0m\n\u001b[0;32m    115\u001b[0m         dtype \u001b[38;5;241m=\u001b[39m mu\u001b[38;5;241m.\u001b[39mdtype(\u001b[38;5;124m'\u001b[39m\u001b[38;5;124mf4\u001b[39m\u001b[38;5;124m'\u001b[39m)\n\u001b[0;32m    116\u001b[0m         is_float16_result \u001b[38;5;241m=\u001b[39m \u001b[38;5;28;01mTrue\u001b[39;00m\n\u001b[1;32m--> 118\u001b[0m ret \u001b[38;5;241m=\u001b[39m \u001b[43mumr_sum\u001b[49m\u001b[43m(\u001b[49m\u001b[43marr\u001b[49m\u001b[43m,\u001b[49m\u001b[43m \u001b[49m\u001b[43maxis\u001b[49m\u001b[43m,\u001b[49m\u001b[43m \u001b[49m\u001b[43mdtype\u001b[49m\u001b[43m,\u001b[49m\u001b[43m \u001b[49m\u001b[43mout\u001b[49m\u001b[43m,\u001b[49m\u001b[43m \u001b[49m\u001b[43mkeepdims\u001b[49m\u001b[43m,\u001b[49m\u001b[43m \u001b[49m\u001b[43mwhere\u001b[49m\u001b[38;5;241;43m=\u001b[39;49m\u001b[43mwhere\u001b[49m\u001b[43m)\u001b[49m\n\u001b[0;32m    119\u001b[0m \u001b[38;5;28;01mif\u001b[39;00m \u001b[38;5;28misinstance\u001b[39m(ret, mu\u001b[38;5;241m.\u001b[39mndarray):\n\u001b[0;32m    120\u001b[0m     \u001b[38;5;28;01mwith\u001b[39;00m _no_nep50_warning():\n",
      "\u001b[1;31mUFuncTypeError\u001b[0m: ufunc 'add' did not contain a loop with signature matching types (dtype('<U32'), dtype('<U32')) -> None"
     ]
    }
   ],
   "source": [
    "import numpy as np\n",
    "import matplotlib.pyplot as plt\n",
    "import seaborn as sns\n",
    "import sqlite3\n",
    "\n",
    "# Conecte-se ao banco de dados\n",
    "conn = sqlite3.connect(\"db_dados_fake.db\")\n",
    "cursor = conn.cursor()\n",
    "\n",
    "# Defina a coluna de interesse\n",
    "coluna_interesse = 'Salário'\n",
    "\n",
    "# Obtenha os nomes de todas as colunas, exceto a coluna de interesse\n",
    "cursor.execute(f'''\n",
    "    SELECT name FROM pragma_table_info('dados_fake')\n",
    "    WHERE name != '{coluna_interesse}'\n",
    "''')\n",
    "colunas = [coluna_interesse] + [row[0] for row in cursor.fetchall()]  # Adicione a coluna de interesse à lista\n",
    "\n",
    "# Execute uma consulta para obter os dados das colunas\n",
    "cursor.execute(f'''\n",
    "    SELECT {', '.join(colunas)} FROM dados_fake\n",
    "''')\n",
    "dados = cursor.fetchall()\n",
    "\n",
    "# Crie uma matriz numpy com os dados\n",
    "matriz_dados = np.array(dados)\n",
    "\n",
    "# Calcule a matriz de correlação\n",
    "matriz_correlacao = np.corrcoef(matriz_dados, rowvar=False)\n",
    "\n",
    "# Crie um mapa de calor usando seaborn\n",
    "plt.figure(figsize=(10, 8))\n",
    "sns.heatmap(matriz_correlacao, annot=True, xticklabels=colunas, yticklabels=colunas, cmap='coolwarm')\n",
    "plt.title(\"Mapa de Correlação\")\n",
    "plt.show()\n",
    "\n",
    "# Feche a conexão com o banco de dados\n",
    "conn.close()\n"
   ]
  },
  {
   "cell_type": "code",
   "execution_count": 7,
   "metadata": {},
   "outputs": [
    {
     "name": "stdout",
     "output_type": "stream",
     "text": [
      "['Salário', 'Idade']\n",
      "Salário\n",
      "Idade\n",
      "Salário Idade\n"
     ]
    }
   ],
   "source": [
    "import sqlite3\n",
    "\n",
    "# Conecte-se ao banco de dados\n",
    "conn = sqlite3.connect(\"db_dados_fake.db\")\n",
    "cursor = conn.cursor()\n",
    "\n",
    "# Obtenha os nomes de todas as colunas, exceto a coluna de interesse\n",
    "cursor.execute(f'''\n",
    "    SELECT name FROM pragma_table_info('dados_fake')\n",
    "''')\n",
    "\n",
    "colunas = [row[0] for row in cursor.fetchall()]\n",
    "\n",
    "print(colunas)\n",
    "\n",
    "for coluna in colunas:\n",
    "  print(coluna)\n",
    "\n",
    "print(colunas[0], colunas[1])\n",
    "\n",
    "conn.close()"
   ]
  }
 ],
 "metadata": {
  "kernelspec": {
   "display_name": "Data_transform-6_u8Jwip",
   "language": "python",
   "name": "python3"
  },
  "language_info": {
   "codemirror_mode": {
    "name": "ipython",
    "version": 3
   },
   "file_extension": ".py",
   "mimetype": "text/x-python",
   "name": "python",
   "nbconvert_exporter": "python",
   "pygments_lexer": "ipython3",
   "version": "3.11.7"
  }
 },
 "nbformat": 4,
 "nbformat_minor": 2
}
