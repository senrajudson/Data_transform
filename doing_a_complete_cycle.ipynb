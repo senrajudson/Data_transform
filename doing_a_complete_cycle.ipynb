{
 "cells": [
  {
   "cell_type": "code",
   "execution_count": 1,
   "metadata": {},
   "outputs": [
    {
     "name": "stderr",
     "output_type": "stream",
     "text": [
      "DEBUG:root:\n",
      "            CREATE TABLE IF NOT EXISTS dados_analise (\n",
      "            ÿþI\u0000D\u0000 TEXT, \u0000N\u0000o\u0000m\u0000e\u0000 TEXT, \u0000I\u0000d\u0000a\u0000d\u0000e\u0000 TEXT, \u0000S\u0000a\u0000l\u0000á\u0000r\u0000i\u0000o\u0000 TEXT\n",
      "            )\n",
      "            \n"
     ]
    },
    {
     "name": "stdout",
     "output_type": "stream",
     "text": [
      "Os dados não estavam no tipo utf-8\n",
      "Os dados são do tipo UTF-16 condidence 1.0\n",
      "encode_type != 'utf-8'\n"
     ]
    },
    {
     "ename": "ProgrammingError",
     "evalue": "the query contains a null character",
     "output_type": "error",
     "traceback": [
      "\u001b[1;31m---------------------------------------------------------------------------\u001b[0m",
      "\u001b[1;31mProgrammingError\u001b[0m                          Traceback (most recent call last)",
      "File \u001b[1;32md:\\Judson_projetos\\Data_transform\\Data_transform\\data_transform\\services.py:93\u001b[0m, in \u001b[0;36mDataTransformServices.data_csv_file\u001b[1;34m(self, file_path)\u001b[0m\n\u001b[0;32m     92\u001b[0m \u001b[38;5;28;01mtry\u001b[39;00m:\n\u001b[1;32m---> 93\u001b[0m     \u001b[43mcursor\u001b[49m\u001b[38;5;241;43m.\u001b[39;49m\u001b[43mexecute\u001b[49m\u001b[43m(\u001b[49m\u001b[43msql_create_table\u001b[49m\u001b[43m)\u001b[49m\n\u001b[0;32m     94\u001b[0m     cursor\u001b[38;5;241m.\u001b[39mexecutemany(sql_insert_data, csv_reader)\n",
      "\u001b[1;31mProgrammingError\u001b[0m: the query contains a null character",
      "\nDuring handling of the above exception, another exception occurred:\n",
      "\u001b[1;31mProgrammingError\u001b[0m                          Traceback (most recent call last)",
      "Cell \u001b[1;32mIn[1], line 4\u001b[0m\n\u001b[0;32m      1\u001b[0m \u001b[38;5;28;01mfrom\u001b[39;00m \u001b[38;5;21;01mData_transform\u001b[39;00m\u001b[38;5;21;01m.\u001b[39;00m\u001b[38;5;21;01mdata_transform\u001b[39;00m \u001b[38;5;28;01mimport\u001b[39;00m interface\n\u001b[0;32m      3\u001b[0m \u001b[38;5;66;03m# interface.db_arquive(\"CACHE_DADOS/fake_data_test_tqdm.db\")\u001b[39;00m\n\u001b[1;32m----> 4\u001b[0m \u001b[43minterface\u001b[49m\u001b[38;5;241;43m.\u001b[39;49m\u001b[43mdata_csv_file\u001b[49m\u001b[43m(\u001b[49m\u001b[38;5;124;43m\"\u001b[39;49m\u001b[38;5;124;43mfake_data.csv\u001b[39;49m\u001b[38;5;124;43m\"\u001b[39;49m\u001b[43m)\u001b[49m\n",
      "File \u001b[1;32md:\\Judson_projetos\\Data_transform\\Data_transform\\data_transform\\interface.py:11\u001b[0m, in \u001b[0;36mdata_csv_file\u001b[1;34m(data_csv_file)\u001b[0m\n\u001b[0;32m     10\u001b[0m \u001b[38;5;28;01mdef\u001b[39;00m \u001b[38;5;21mdata_csv_file\u001b[39m(data_csv_file):\n\u001b[1;32m---> 11\u001b[0m     \u001b[43mservices\u001b[49m\u001b[38;5;241;43m.\u001b[39;49m\u001b[43mdata_csv_file\u001b[49m \u001b[38;5;241m=\u001b[39m data_csv_file\n",
      "File \u001b[1;32md:\\Judson_projetos\\Data_transform\\Data_transform\\data_transform\\services.py:111\u001b[0m, in \u001b[0;36mDataTransformServices.data_csv_file\u001b[1;34m(self, file_path)\u001b[0m\n\u001b[0;32m    108\u001b[0m         colunas[i] \u001b[38;5;241m=\u001b[39m \u001b[38;5;124mf\u001b[39m\u001b[38;5;124m'\u001b[39m\u001b[38;5;132;01m{\u001b[39;00mcolunas[i]\u001b[38;5;132;01m}\u001b[39;00m\u001b[38;5;132;01m{\u001b[39;00mi\u001b[38;5;241m+\u001b[39m\u001b[38;5;241m1\u001b[39m\u001b[38;5;132;01m}\u001b[39;00m\u001b[38;5;124m'\u001b[39m\n\u001b[0;32m    110\u001b[0m logging\u001b[38;5;241m.\u001b[39mdebug(\u001b[38;5;124mf\u001b[39m\u001b[38;5;124m'\u001b[39m\u001b[38;5;132;01m{\u001b[39;00msql_create_table\u001b[38;5;132;01m}\u001b[39;00m\u001b[38;5;124m'\u001b[39m)\n\u001b[1;32m--> 111\u001b[0m \u001b[43mcursor\u001b[49m\u001b[38;5;241;43m.\u001b[39;49m\u001b[43mexecute\u001b[49m\u001b[43m(\u001b[49m\u001b[43msql_create_table\u001b[49m\u001b[43m)\u001b[49m\n\u001b[0;32m    113\u001b[0m logging\u001b[38;5;241m.\u001b[39mdebug(\u001b[38;5;124mf\u001b[39m\u001b[38;5;124m'\u001b[39m\u001b[38;5;132;01m{\u001b[39;00msql_insert_data\u001b[38;5;132;01m}\u001b[39;00m\u001b[38;5;124m'\u001b[39m)\n\u001b[0;32m    114\u001b[0m cursor\u001b[38;5;241m.\u001b[39mexecutemany(sql_insert_data, csv_reader)                \n",
      "\u001b[1;31mProgrammingError\u001b[0m: the query contains a null character"
     ]
    }
   ],
   "source": [
    "from Data_transform.data_transform import interface\n",
    "\n",
    "# interface.db_arquive(\"CACHE_DADOS/fake_data_test_tqdm.db\")\n",
    "interface.data_csv_file(\"fake_data.csv\")"
   ]
  },
  {
   "cell_type": "code",
   "execution_count": null,
   "metadata": {},
   "outputs": [],
   "source": [
    "interface.printar_tipos_de_dados()\n",
    "interface.remover_coluna([\"ID\", \"Nome\"])"
   ]
  },
  {
   "cell_type": "code",
   "execution_count": null,
   "metadata": {},
   "outputs": [],
   "source": [
    "interface.converter_valores()\n",
    "interface.printar_tipos_de_dados()"
   ]
  },
  {
   "cell_type": "code",
   "execution_count": null,
   "metadata": {},
   "outputs": [],
   "source": [
    "interface.plotar_mapa_de_correlacao()"
   ]
  }
 ],
 "metadata": {
  "kernelspec": {
   "display_name": "Data_transform-6_u8Jwip",
   "language": "python",
   "name": "python3"
  },
  "language_info": {
   "codemirror_mode": {
    "name": "ipython",
    "version": 3
   },
   "file_extension": ".py",
   "mimetype": "text/x-python",
   "name": "python",
   "nbconvert_exporter": "python",
   "pygments_lexer": "ipython3",
   "version": "3.11.7"
  }
 },
 "nbformat": 4,
 "nbformat_minor": 2
}
