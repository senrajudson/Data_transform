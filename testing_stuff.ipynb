{
 "cells": [
  {
   "cell_type": "code",
   "execution_count": null,
   "metadata": {},
   "outputs": [],
   "source": [
    "from Data_Transform.data_transform.services import DataTransformServices\n",
    "\n",
    "DATA_transform = DataTransformServices\n",
    "DATA_transform = DataTransformServices()"
   ]
  },
  {
   "cell_type": "code",
   "execution_count": null,
   "metadata": {},
   "outputs": [],
   "source": [
    "DATA_transform.data_csv_file = \"dados_fake.csv\"\n",
    "DATA_transform.column_name = \"Salário\"\n",
    "DATA_transform.contar_tipos_de_dados()\n",
    "DATA_transform.converter_column_value()\n",
    "DATA_transform.contar_tipos_de_dados()\n",
    "DATA_transform.remover_strings()\n",
    "DATA_transform.contar_tipos_de_dados()\n",
    "DATA_transform.plot_correlation_heatmap()\n",
    "DATA_transform.remover_coluna(\"Nome\")\n",
    "DATA_transform.remover_coluna(\"ID\")\n",
    "DATA_transform.plot_correlation_heatmap()"
   ]
  },
  {
   "cell_type": "code",
   "execution_count": 1,
   "metadata": {},
   "outputs": [
    {
     "name": "stdout",
     "output_type": "stream",
     "text": [
      "Contagem de tipos de dados na coluna:\n",
      "         Salário\n",
      "Salário  String     100000\n",
      "dtype: object\n"
     ]
    }
   ],
   "source": [
    "from Data_Transform.data_transform import interface\n",
    "\n",
    "interface.dataframe_csv(\"dados_fake.csv\")\n",
    "interface.printar_tipos_de_dados(\"Salário\")\n",
    "interface.converter_valores(\"Salário\")\n",
    "# interface.printar_tipos_de_dados(\"Salário\")\n",
    "# interface.remover_strings(\"Salário\")\n",
    "# interface.printar_tipos_de_dados(\"Salário\")\n",
    "# interface.remover_coluna(\"Nome\")\n",
    "# interface.remover_coluna(\"ID\")\n",
    "# interface.plotar_mapa_de_correlacao()"
   ]
  }
 ],
 "metadata": {
  "kernelspec": {
   "display_name": "Data_transform-6_u8Jwip",
   "language": "python",
   "name": "python3"
  },
  "language_info": {
   "codemirror_mode": {
    "name": "ipython",
    "version": 3
   },
   "file_extension": ".py",
   "mimetype": "text/x-python",
   "name": "python",
   "nbconvert_exporter": "python",
   "pygments_lexer": "ipython3",
   "version": "3.11.7"
  }
 },
 "nbformat": 4,
 "nbformat_minor": 2
}
