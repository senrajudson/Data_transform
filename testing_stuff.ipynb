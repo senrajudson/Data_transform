{
 "cells": [
  {
   "cell_type": "code",
   "execution_count": null,
   "metadata": {},
   "outputs": [],
   "source": [
    "from Data_Transform.data_transform.services import DataTransformServices\n",
    "\n",
    "DATA_transform = DataTransformServices\n",
    "DATA_transform = DataTransformServices()"
   ]
  },
  {
   "cell_type": "code",
   "execution_count": null,
   "metadata": {},
   "outputs": [],
   "source": [
    "DATA_transform.data_csv_file = \"dados_fake.csv\"\n",
    "DATA_transform.column_name = \"Salário\"\n",
    "DATA_transform.contar_tipos_de_dados()"
   ]
  },
  {
   "cell_type": "code",
   "execution_count": null,
   "metadata": {},
   "outputs": [],
   "source": [
    "DATA_transform.converter_column_value()"
   ]
  },
  {
   "cell_type": "code",
   "execution_count": null,
   "metadata": {},
   "outputs": [],
   "source": [
    "DATA_transform.contar_tipos_de_dados()"
   ]
  },
  {
   "cell_type": "code",
   "execution_count": null,
   "metadata": {},
   "outputs": [],
   "source": [
    "DATA_transform.remover_strings()\n",
    "DATA_transform.contar_tipos_de_dados()"
   ]
  },
  {
   "cell_type": "code",
   "execution_count": null,
   "metadata": {},
   "outputs": [],
   "source": [
    "DATA_transform.plot_correlation_heatmap()"
   ]
  },
  {
   "cell_type": "code",
   "execution_count": null,
   "metadata": {},
   "outputs": [],
   "source": [
    "DATA_transform.remover_coluna(\"Nome\")\n",
    "DATA_transform.remover_coluna(\"ID\")"
   ]
  },
  {
   "cell_type": "code",
   "execution_count": null,
   "metadata": {},
   "outputs": [],
   "source": [
    "DATA_transform.plot_correlation_heatmap()"
   ]
  },
  {
   "cell_type": "code",
   "execution_count": 1,
   "metadata": {},
   "outputs": [
    {
     "ename": "ModuleNotFoundError",
     "evalue": "No module named 'services'",
     "output_type": "error",
     "traceback": [
      "\u001b[1;31m---------------------------------------------------------------------------\u001b[0m",
      "\u001b[1;31mModuleNotFoundError\u001b[0m                       Traceback (most recent call last)",
      "Cell \u001b[1;32mIn[1], line 1\u001b[0m\n\u001b[1;32m----> 1\u001b[0m \u001b[38;5;28;01mfrom\u001b[39;00m \u001b[38;5;21;01mData_Transform\u001b[39;00m\u001b[38;5;21;01m.\u001b[39;00m\u001b[38;5;21;01mdata_transform\u001b[39;00m \u001b[38;5;28;01mimport\u001b[39;00m interface\n\u001b[0;32m      3\u001b[0m interface\u001b[38;5;241m.\u001b[39mdataframe_csv \u001b[38;5;241m=\u001b[39m \u001b[38;5;124m\"\u001b[39m\u001b[38;5;124mdados_fake.csv\u001b[39m\u001b[38;5;124m\"\u001b[39m\n",
      "File \u001b[1;32md:\\Judson_projetos\\Data_transform-main\\Data_transform-main\\Data_transform\\Data_Transform\\data_transform\\interface.py:1\u001b[0m\n\u001b[1;32m----> 1\u001b[0m \u001b[38;5;28;01mfrom\u001b[39;00m \u001b[38;5;21;01mservices\u001b[39;00m \u001b[38;5;28;01mimport\u001b[39;00m DataTransformServices\n\u001b[0;32m      3\u001b[0m services \u001b[38;5;241m=\u001b[39m DataTransformServices()\n\u001b[0;32m      5\u001b[0m \u001b[38;5;66;03m# definir arquivo para dataframe\u001b[39;00m\n",
      "\u001b[1;31mModuleNotFoundError\u001b[0m: No module named 'services'"
     ]
    }
   ],
   "source": [
    "from Data_Transform.data_transform import interface\n",
    "\n",
    "interface.dataframe_csv = \"dados_fake.csv\""
   ]
  }
 ],
 "metadata": {
  "kernelspec": {
   "display_name": "Data_transform-6_u8Jwip",
   "language": "python",
   "name": "python3"
  },
  "language_info": {
   "codemirror_mode": {
    "name": "ipython",
    "version": 3
   },
   "file_extension": ".py",
   "mimetype": "text/x-python",
   "name": "python",
   "nbconvert_exporter": "python",
   "pygments_lexer": "ipython3",
   "version": "3.11.7"
  }
 },
 "nbformat": 4,
 "nbformat_minor": 2
}
